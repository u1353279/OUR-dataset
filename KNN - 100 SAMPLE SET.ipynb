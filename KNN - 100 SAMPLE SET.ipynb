{
 "cells": [
  {
   "cell_type": "markdown",
   "metadata": {},
   "source": [
    "# KNN implementation on our dataset (100 samples)"
   ]
  },
  {
   "cell_type": "code",
   "execution_count": 107,
   "metadata": {},
   "outputs": [
    {
     "data": {
      "text/html": [
       "<div>\n",
       "<style scoped>\n",
       "    .dataframe tbody tr th:only-of-type {\n",
       "        vertical-align: middle;\n",
       "    }\n",
       "\n",
       "    .dataframe tbody tr th {\n",
       "        vertical-align: top;\n",
       "    }\n",
       "\n",
       "    .dataframe thead th {\n",
       "        text-align: right;\n",
       "    }\n",
       "</style>\n",
       "<table border=\"1\" class=\"dataframe\">\n",
       "  <thead>\n",
       "    <tr style=\"text-align: right;\">\n",
       "      <th></th>\n",
       "      <th>G</th>\n",
       "      <th>P</th>\n",
       "      <th>T</th>\n",
       "    </tr>\n",
       "  </thead>\n",
       "  <tbody>\n",
       "    <tr>\n",
       "      <td>0</td>\n",
       "      <td>0.008667</td>\n",
       "      <td>0.018119</td>\n",
       "      <td>0</td>\n",
       "    </tr>\n",
       "    <tr>\n",
       "      <td>1</td>\n",
       "      <td>0.164500</td>\n",
       "      <td>0.369489</td>\n",
       "      <td>0</td>\n",
       "    </tr>\n",
       "    <tr>\n",
       "      <td>2</td>\n",
       "      <td>0.717500</td>\n",
       "      <td>1.601420</td>\n",
       "      <td>0</td>\n",
       "    </tr>\n",
       "    <tr>\n",
       "      <td>3</td>\n",
       "      <td>0.902167</td>\n",
       "      <td>1.973920</td>\n",
       "      <td>0</td>\n",
       "    </tr>\n",
       "    <tr>\n",
       "      <td>4</td>\n",
       "      <td>1.086000</td>\n",
       "      <td>2.448440</td>\n",
       "      <td>0</td>\n",
       "    </tr>\n",
       "  </tbody>\n",
       "</table>\n",
       "</div>"
      ],
      "text/plain": [
       "          G         P  T\n",
       "0  0.008667  0.018119  0\n",
       "1  0.164500  0.369489  0\n",
       "2  0.717500  1.601420  0\n",
       "3  0.902167  1.973920  0\n",
       "4  1.086000  2.448440  0"
      ]
     },
     "execution_count": 107,
     "metadata": {},
     "output_type": "execute_result"
    }
   ],
   "source": [
    "import pandas as pd\n",
    "df=pd.read_excel('dataset.xlsx')\n",
    "df.head()"
   ]
  },
  {
   "cell_type": "code",
   "execution_count": 108,
   "metadata": {},
   "outputs": [
    {
     "data": {
      "text/plain": [
       "Index(['G', 'P', 'T'], dtype='object')"
      ]
     },
     "execution_count": 108,
     "metadata": {},
     "output_type": "execute_result"
    }
   ],
   "source": [
    "df.keys()"
   ]
  },
  {
   "cell_type": "code",
   "execution_count": 109,
   "metadata": {},
   "outputs": [
    {
     "data": {
      "text/plain": [
       "array([[8.66667e-03, 1.81187e-02, 0.00000e+00],\n",
       "       [1.64500e-01, 3.69489e-01, 0.00000e+00],\n",
       "       [7.17500e-01, 1.60142e+00, 0.00000e+00],\n",
       "       [9.02167e-01, 1.97392e+00, 0.00000e+00],\n",
       "       [1.08600e+00, 2.44844e+00, 0.00000e+00],\n",
       "       [9.98833e-01, 2.15653e+00, 0.00000e+00],\n",
       "       [1.28200e+00, 2.91351e+00, 0.00000e+00],\n",
       "       [1.76617e+00, 3.95738e+00, 0.00000e+00],\n",
       "       [2.01067e+00, 4.35130e+00, 0.00000e+00],\n",
       "       [2.30050e+00, 4.94869e+00, 0.00000e+00],\n",
       "       [2.40200e+00, 5.29210e+00, 1.00000e+00],\n",
       "       [3.07767e+00, 6.66302e+00, 1.00000e+00],\n",
       "       [3.79467e+00, 8.64435e+00, 1.00000e+00],\n",
       "       [4.15051e+00, 9.45593e+00, 1.00000e+00],\n",
       "       [4.73148e+00, 1.03360e+01, 1.00000e+00],\n",
       "       [5.61683e+00, 1.26451e+01, 1.00000e+00],\n",
       "       [6.61217e+00, 1.50686e+01, 1.00000e+00],\n",
       "       [7.85417e+00, 1.67875e+01, 1.00000e+00],\n",
       "       [8.82085e+00, 1.90216e+01, 1.00000e+00],\n",
       "       [9.58836e+00, 2.01338e+01, 1.00000e+00],\n",
       "       [1.05410e+01, 2.30706e+01, 2.00000e+00],\n",
       "       [1.18705e+01, 2.58331e+01, 2.00000e+00],\n",
       "       [1.33610e+01, 2.82364e+01, 2.00000e+00],\n",
       "       [1.48382e+01, 3.37924e+01, 2.00000e+00],\n",
       "       [1.59688e+01, 3.35944e+01, 2.00000e+00],\n",
       "       [1.73250e+01, 3.69484e+01, 2.00000e+00],\n",
       "       [1.85133e+01, 4.07513e+01, 2.00000e+00],\n",
       "       [1.94707e+01, 4.43170e+01, 2.00000e+00],\n",
       "       [2.01730e+01, 4.42501e+01, 2.00000e+00],\n",
       "       [2.10827e+01, 4.69541e+01, 2.00000e+00],\n",
       "       [2.18123e+01, 4.56813e+01, 3.00000e+00],\n",
       "       [2.25877e+01, 4.84340e+01, 3.00000e+00],\n",
       "       [2.35360e+01, 5.10101e+01, 3.00000e+00],\n",
       "       [2.42807e+01, 5.19373e+01, 3.00000e+00],\n",
       "       [2.51897e+01, 5.80168e+01, 3.00000e+00],\n",
       "       [2.62059e+01, 5.74641e+01, 3.00000e+00],\n",
       "       [2.71343e+01, 5.73240e+01, 3.00000e+00],\n",
       "       [2.81972e+01, 6.22366e+01, 3.00000e+00],\n",
       "       [2.92268e+01, 6.23087e+01, 3.00000e+00],\n",
       "       [3.03548e+01, 6.80447e+01, 3.00000e+00],\n",
       "       [3.15398e+01, 6.98045e+01, 4.00000e+00],\n",
       "       [3.26535e+01, 7.13968e+01, 4.00000e+00],\n",
       "       [3.37397e+01, 7.24182e+01, 4.00000e+00],\n",
       "       [3.52537e+01, 7.82642e+01, 4.00000e+00],\n",
       "       [3.68063e+01, 8.40677e+01, 4.00000e+00],\n",
       "       [3.83660e+01, 8.14739e+01, 4.00000e+00],\n",
       "       [4.02410e+01, 8.69477e+01, 4.00000e+00],\n",
       "       [4.24645e+01, 9.51986e+01, 4.00000e+00],\n",
       "       [4.44640e+01, 9.92565e+01, 4.00000e+00],\n",
       "       [4.66692e+01, 1.03699e+02, 4.00000e+00],\n",
       "       [4.94535e+01, 1.03645e+02, 5.00000e+00],\n",
       "       [5.24422e+01, 1.13065e+02, 5.00000e+00],\n",
       "       [5.56240e+01, 1.24500e+02, 5.00000e+00],\n",
       "       [5.84723e+01, 1.29176e+02, 5.00000e+00],\n",
       "       [6.13297e+01, 1.39639e+02, 5.00000e+00],\n",
       "       [6.42822e+01, 1.44671e+02, 5.00000e+00],\n",
       "       [6.70618e+01, 1.40892e+02, 5.00000e+00],\n",
       "       [7.01502e+01, 1.60886e+02, 5.00000e+00],\n",
       "       [7.31302e+01, 1.66889e+02, 5.00000e+00],\n",
       "       [7.57762e+01, 1.66225e+02, 5.00000e+00],\n",
       "       [7.79520e+01, 1.73895e+02, 6.00000e+00],\n",
       "       [7.91231e+01, 1.76436e+02, 6.00000e+00],\n",
       "       [7.99830e+01, 1.73697e+02, 6.00000e+00],\n",
       "       [8.06868e+01, 1.72673e+02, 6.00000e+00],\n",
       "       [8.15433e+01, 1.86288e+02, 6.00000e+00],\n",
       "       [8.24528e+01, 1.77588e+02, 6.00000e+00],\n",
       "       [8.28707e+01, 1.76117e+02, 6.00000e+00],\n",
       "       [8.26125e+01, 1.81458e+02, 6.00000e+00],\n",
       "       [8.28272e+01, 1.88986e+02, 6.00000e+00],\n",
       "       [8.32843e+01, 1.92283e+02, 6.00000e+00],\n",
       "       [8.39678e+01, 1.91172e+02, 7.00000e+00],\n",
       "       [8.46668e+01, 1.78792e+02, 7.00000e+00],\n",
       "       [8.59217e+01, 1.91575e+02, 7.00000e+00],\n",
       "       [8.76150e+01, 1.88120e+02, 7.00000e+00],\n",
       "       [8.95892e+01, 2.05935e+02, 7.00000e+00],\n",
       "       [9.12692e+01, 2.00942e+02, 7.00000e+00],\n",
       "       [9.28447e+01, 1.98701e+02, 7.00000e+00],\n",
       "       [9.44063e+01, 2.00310e+02, 7.00000e+00],\n",
       "       [9.61865e+01, 2.16770e+02, 7.00000e+00],\n",
       "       [9.81907e+01, 2.19007e+02, 7.00000e+00],\n",
       "       [1.00212e+02, 2.16334e+02, 8.00000e+00],\n",
       "       [1.02838e+02, 2.24492e+02, 8.00000e+00],\n",
       "       [1.06620e+02, 2.45610e+02, 8.00000e+00],\n",
       "       [1.10406e+02, 2.45332e+02, 8.00000e+00],\n",
       "       [1.13322e+02, 2.41764e+02, 8.00000e+00],\n",
       "       [1.15947e+02, 2.64666e+02, 8.00000e+00],\n",
       "       [1.18243e+02, 2.63812e+02, 8.00000e+00],\n",
       "       [1.19252e+02, 2.60338e+02, 8.00000e+00],\n",
       "       [1.20294e+02, 2.72508e+02, 8.00000e+00],\n",
       "       [1.21089e+02, 2.68230e+02, 8.00000e+00],\n",
       "       [1.21786e+02, 2.58719e+02, 9.00000e+00],\n",
       "       [1.21003e+02, 2.53607e+02, 9.00000e+00],\n",
       "       [1.21092e+02, 2.53168e+02, 9.00000e+00],\n",
       "       [1.22430e+02, 2.69644e+02, 9.00000e+00],\n",
       "       [1.24782e+02, 2.70488e+02, 9.00000e+00],\n",
       "       [1.26649e+02, 2.72617e+02, 9.00000e+00],\n",
       "       [1.27961e+02, 2.77017e+02, 9.00000e+00],\n",
       "       [1.29534e+02, 2.77977e+02, 9.00000e+00],\n",
       "       [1.31643e+02, 2.77914e+02, 9.00000e+00],\n",
       "       [1.34296e+02, 2.88874e+02, 9.00000e+00]])"
      ]
     },
     "execution_count": 109,
     "metadata": {},
     "output_type": "execute_result"
    }
   ],
   "source": [
    "import numpy as np\n",
    "array=df.values\n",
    "array"
   ]
  },
  {
   "cell_type": "code",
   "execution_count": 110,
   "metadata": {},
   "outputs": [
    {
     "data": {
      "text/plain": [
       "array([[8.66667e-03, 1.81187e-02],\n",
       "       [1.64500e-01, 3.69489e-01],\n",
       "       [7.17500e-01, 1.60142e+00],\n",
       "       [9.02167e-01, 1.97392e+00],\n",
       "       [1.08600e+00, 2.44844e+00],\n",
       "       [9.98833e-01, 2.15653e+00],\n",
       "       [1.28200e+00, 2.91351e+00],\n",
       "       [1.76617e+00, 3.95738e+00],\n",
       "       [2.01067e+00, 4.35130e+00],\n",
       "       [2.30050e+00, 4.94869e+00],\n",
       "       [2.40200e+00, 5.29210e+00],\n",
       "       [3.07767e+00, 6.66302e+00],\n",
       "       [3.79467e+00, 8.64435e+00],\n",
       "       [4.15051e+00, 9.45593e+00],\n",
       "       [4.73148e+00, 1.03360e+01],\n",
       "       [5.61683e+00, 1.26451e+01],\n",
       "       [6.61217e+00, 1.50686e+01],\n",
       "       [7.85417e+00, 1.67875e+01],\n",
       "       [8.82085e+00, 1.90216e+01],\n",
       "       [9.58836e+00, 2.01338e+01],\n",
       "       [1.05410e+01, 2.30706e+01],\n",
       "       [1.18705e+01, 2.58331e+01],\n",
       "       [1.33610e+01, 2.82364e+01],\n",
       "       [1.48382e+01, 3.37924e+01],\n",
       "       [1.59688e+01, 3.35944e+01],\n",
       "       [1.73250e+01, 3.69484e+01],\n",
       "       [1.85133e+01, 4.07513e+01],\n",
       "       [1.94707e+01, 4.43170e+01],\n",
       "       [2.01730e+01, 4.42501e+01],\n",
       "       [2.10827e+01, 4.69541e+01],\n",
       "       [2.18123e+01, 4.56813e+01],\n",
       "       [2.25877e+01, 4.84340e+01],\n",
       "       [2.35360e+01, 5.10101e+01],\n",
       "       [2.42807e+01, 5.19373e+01],\n",
       "       [2.51897e+01, 5.80168e+01],\n",
       "       [2.62059e+01, 5.74641e+01],\n",
       "       [2.71343e+01, 5.73240e+01],\n",
       "       [2.81972e+01, 6.22366e+01],\n",
       "       [2.92268e+01, 6.23087e+01],\n",
       "       [3.03548e+01, 6.80447e+01],\n",
       "       [3.15398e+01, 6.98045e+01],\n",
       "       [3.26535e+01, 7.13968e+01],\n",
       "       [3.37397e+01, 7.24182e+01],\n",
       "       [3.52537e+01, 7.82642e+01],\n",
       "       [3.68063e+01, 8.40677e+01],\n",
       "       [3.83660e+01, 8.14739e+01],\n",
       "       [4.02410e+01, 8.69477e+01],\n",
       "       [4.24645e+01, 9.51986e+01],\n",
       "       [4.44640e+01, 9.92565e+01],\n",
       "       [4.66692e+01, 1.03699e+02],\n",
       "       [4.94535e+01, 1.03645e+02],\n",
       "       [5.24422e+01, 1.13065e+02],\n",
       "       [5.56240e+01, 1.24500e+02],\n",
       "       [5.84723e+01, 1.29176e+02],\n",
       "       [6.13297e+01, 1.39639e+02],\n",
       "       [6.42822e+01, 1.44671e+02],\n",
       "       [6.70618e+01, 1.40892e+02],\n",
       "       [7.01502e+01, 1.60886e+02],\n",
       "       [7.31302e+01, 1.66889e+02],\n",
       "       [7.57762e+01, 1.66225e+02],\n",
       "       [7.79520e+01, 1.73895e+02],\n",
       "       [7.91231e+01, 1.76436e+02],\n",
       "       [7.99830e+01, 1.73697e+02],\n",
       "       [8.06868e+01, 1.72673e+02],\n",
       "       [8.15433e+01, 1.86288e+02],\n",
       "       [8.24528e+01, 1.77588e+02],\n",
       "       [8.28707e+01, 1.76117e+02],\n",
       "       [8.26125e+01, 1.81458e+02],\n",
       "       [8.28272e+01, 1.88986e+02],\n",
       "       [8.32843e+01, 1.92283e+02],\n",
       "       [8.39678e+01, 1.91172e+02],\n",
       "       [8.46668e+01, 1.78792e+02],\n",
       "       [8.59217e+01, 1.91575e+02],\n",
       "       [8.76150e+01, 1.88120e+02],\n",
       "       [8.95892e+01, 2.05935e+02],\n",
       "       [9.12692e+01, 2.00942e+02],\n",
       "       [9.28447e+01, 1.98701e+02],\n",
       "       [9.44063e+01, 2.00310e+02],\n",
       "       [9.61865e+01, 2.16770e+02],\n",
       "       [9.81907e+01, 2.19007e+02],\n",
       "       [1.00212e+02, 2.16334e+02],\n",
       "       [1.02838e+02, 2.24492e+02],\n",
       "       [1.06620e+02, 2.45610e+02],\n",
       "       [1.10406e+02, 2.45332e+02],\n",
       "       [1.13322e+02, 2.41764e+02],\n",
       "       [1.15947e+02, 2.64666e+02],\n",
       "       [1.18243e+02, 2.63812e+02],\n",
       "       [1.19252e+02, 2.60338e+02],\n",
       "       [1.20294e+02, 2.72508e+02],\n",
       "       [1.21089e+02, 2.68230e+02],\n",
       "       [1.21786e+02, 2.58719e+02],\n",
       "       [1.21003e+02, 2.53607e+02],\n",
       "       [1.21092e+02, 2.53168e+02],\n",
       "       [1.22430e+02, 2.69644e+02],\n",
       "       [1.24782e+02, 2.70488e+02],\n",
       "       [1.26649e+02, 2.72617e+02],\n",
       "       [1.27961e+02, 2.77017e+02],\n",
       "       [1.29534e+02, 2.77977e+02],\n",
       "       [1.31643e+02, 2.77914e+02],\n",
       "       [1.34296e+02, 2.88874e+02]])"
      ]
     },
     "execution_count": 110,
     "metadata": {},
     "output_type": "execute_result"
    }
   ],
   "source": [
    "x=array[:,0:2]\n",
    "x"
   ]
  },
  {
   "cell_type": "code",
   "execution_count": 111,
   "metadata": {},
   "outputs": [
    {
     "data": {
      "text/plain": [
       "array([0., 0., 0., 0., 0., 0., 0., 0., 0., 0., 1., 1., 1., 1., 1., 1., 1.,\n",
       "       1., 1., 1., 2., 2., 2., 2., 2., 2., 2., 2., 2., 2., 3., 3., 3., 3.,\n",
       "       3., 3., 3., 3., 3., 3., 4., 4., 4., 4., 4., 4., 4., 4., 4., 4., 5.,\n",
       "       5., 5., 5., 5., 5., 5., 5., 5., 5., 6., 6., 6., 6., 6., 6., 6., 6.,\n",
       "       6., 6., 7., 7., 7., 7., 7., 7., 7., 7., 7., 7., 8., 8., 8., 8., 8.,\n",
       "       8., 8., 8., 8., 8., 9., 9., 9., 9., 9., 9., 9., 9., 9., 9.])"
      ]
     },
     "execution_count": 111,
     "metadata": {},
     "output_type": "execute_result"
    }
   ],
   "source": [
    "y=array[:,2]\n",
    "y"
   ]
  },
  {
   "cell_type": "code",
   "execution_count": 112,
   "metadata": {},
   "outputs": [],
   "source": [
    "from sklearn.neighbors import KNeighborsClassifier\n",
    "knn=KNeighborsClassifier(n_neighbors=1)"
   ]
  },
  {
   "cell_type": "code",
   "execution_count": 113,
   "metadata": {},
   "outputs": [
    {
     "data": {
      "text/plain": [
       "(90, 2)"
      ]
     },
     "execution_count": 113,
     "metadata": {},
     "output_type": "execute_result"
    }
   ],
   "source": [
    "from sklearn.model_selection import train_test_split\n",
    "x_train,x_test,y_train,y_test=train_test_split(x,y,test_size=0.1)\n",
    "x_train.shape"
   ]
  },
  {
   "cell_type": "code",
   "execution_count": 114,
   "metadata": {},
   "outputs": [
    {
     "data": {
      "text/plain": [
       "KNeighborsClassifier(algorithm='auto', leaf_size=30, metric='minkowski',\n",
       "                     metric_params=None, n_jobs=None, n_neighbors=1, p=2,\n",
       "                     weights='uniform')"
      ]
     },
     "execution_count": 114,
     "metadata": {},
     "output_type": "execute_result"
    }
   ],
   "source": [
    "knn.fit(x_train,y_train)"
   ]
  },
  {
   "cell_type": "code",
   "execution_count": 115,
   "metadata": {},
   "outputs": [],
   "source": [
    "y_pred=knn.predict(x_test)"
   ]
  },
  {
   "cell_type": "code",
   "execution_count": 116,
   "metadata": {},
   "outputs": [
    {
     "data": {
      "text/plain": [
       "0.8"
      ]
     },
     "execution_count": 116,
     "metadata": {},
     "output_type": "execute_result"
    }
   ],
   "source": [
    "import sklearn.metrics as metrics\n",
    "z=metrics.accuracy_score(y_test,y_pred)\n",
    "z"
   ]
  },
  {
   "cell_type": "code",
   "execution_count": 117,
   "metadata": {},
   "outputs": [
    {
     "data": {
      "text/plain": [
       "array([0.])"
      ]
     },
     "execution_count": 117,
     "metadata": {},
     "output_type": "execute_result"
    }
   ],
   "source": [
    "knn.predict([[0.68,0.25]])"
   ]
  },
  {
   "cell_type": "code",
   "execution_count": 119,
   "metadata": {},
   "outputs": [
    {
     "name": "stdout",
     "output_type": "stream",
     "text": [
      "              precision    recall  f1-score   support\n",
      "\n",
      "         1.0       1.00      1.00      1.00         1\n",
      "         2.0       1.00      1.00      1.00         1\n",
      "         4.0       1.00      1.00      1.00         1\n",
      "         5.0       1.00      1.00      1.00         1\n",
      "         6.0       1.00      1.00      1.00         1\n",
      "         7.0       1.00      1.00      1.00         2\n",
      "         8.0       0.50      0.50      0.50         2\n",
      "         9.0       0.00      0.00      0.00         1\n",
      "\n",
      "    accuracy                           0.80        10\n",
      "   macro avg       0.81      0.81      0.81        10\n",
      "weighted avg       0.80      0.80      0.80        10\n",
      "\n"
     ]
    }
   ],
   "source": [
    "print (metrics.classification_report(y_test,y_pred))"
   ]
  },
  {
   "cell_type": "markdown",
   "metadata": {},
   "source": [
    "from the classification report we see that 8-faulty was only classified correctly 50% of the the time whilst 9-faulty was not correctly classified at all."
   ]
  },
  {
   "cell_type": "code",
   "execution_count": 120,
   "metadata": {},
   "outputs": [
    {
     "name": "stdout",
     "output_type": "stream",
     "text": [
      "[[1 0 0 0 0 0 0 0]\n",
      " [0 1 0 0 0 0 0 0]\n",
      " [0 0 1 0 0 0 0 0]\n",
      " [0 0 0 1 0 0 0 0]\n",
      " [0 0 0 0 1 0 0 0]\n",
      " [0 0 0 0 0 2 0 0]\n",
      " [0 0 0 0 0 0 1 1]\n",
      " [0 0 0 0 0 0 1 0]]\n"
     ]
    }
   ],
   "source": [
    "print (metrics.confusion_matrix(y_test,y_pred))"
   ]
  },
  {
   "cell_type": "code",
   "execution_count": 139,
   "metadata": {},
   "outputs": [
    {
     "data": {
      "text/plain": [
       "[<matplotlib.lines.Line2D at 0x25663327808>,\n",
       " <matplotlib.lines.Line2D at 0x256633d4f88>,\n",
       " <matplotlib.lines.Line2D at 0x256633d43c8>,\n",
       " <matplotlib.lines.Line2D at 0x25662e7e5c8>,\n",
       " <matplotlib.lines.Line2D at 0x25662e72c48>,\n",
       " <matplotlib.lines.Line2D at 0x25662e72e88>,\n",
       " <matplotlib.lines.Line2D at 0x25662e72cc8>,\n",
       " <matplotlib.lines.Line2D at 0x25662d9cf08>]"
      ]
     },
     "execution_count": 139,
     "metadata": {},
     "output_type": "execute_result"
    },
    {
     "data": {
      "image/png": "[encoded data removed]",
      "text/plain": [
       "<Figure size 432x288 with 1 Axes>"
      ]
     },
     "metadata": {
      "needs_background": "light"
     },
     "output_type": "display_data"
    }
   ],
   "source": [
    "import matplotlib.pyplot as plt\n",
    "w=metrics.confusion_matrix(y_test,y_pred)\n",
    "plt.plot(w)\n"
   ]
  },
  {
   "cell_type": "markdown",
   "metadata": {},
   "source": [
    "# Conclusion: Accuracy of 90% with K=1 and a test sample of 10%"
   ]
  }
 ],
 "metadata": {
  "kernelspec": {
   "display_name": "Python 3",
   "language": "python",
   "name": "python3"
  },
  "language_info": {
   "codemirror_mode": {
    "name": "ipython",
    "version": 3
   },
   "file_extension": ".py",
   "mimetype": "text/x-python",
   "name": "python",
   "nbconvert_exporter": "python",
   "pygments_lexer": "ipython3",
   "version": "3.7.4"
  }
 },
 "nbformat": 4,
 "nbformat_minor": 2
}
